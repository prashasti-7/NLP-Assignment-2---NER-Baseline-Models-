{
  "cells": [
    {
      "cell_type": "code",
      "execution_count": 1,
      "id": "aed3e10b-1f21-44f0-b853-5df1b44e8e08",
      "metadata": {
        "id": "aed3e10b-1f21-44f0-b853-5df1b44e8e08"
      },
      "outputs": [],
      "source": [
        "import numpy as np\n",
        "import pandas as pd\n",
        "import json\n",
        "import tensorflow as tf\n",
        "import gensim\n",
        "import warnings\n",
        "from sklearn.model_selection import train_test_split\n",
        "from sklearn.metrics import f1_score\n",
        "from gensim.models import Word2Vec, KeyedVectors\n",
        "from tensorflow.keras.preprocessing.text import Tokenizer\n",
        "from tensorflow.keras.preprocessing.sequence import pad_sequences\n",
        "from tensorflow.keras.layers import Dense, LSTM, Conv1D, MaxPool1D, TimeDistributed\n",
        "from tensorflow.keras.callbacks import ModelCheckpoint\n",
        "from gensim.models import KeyedVectors\n",
        "from nltk.tokenize import sent_tokenize, word_tokenize\n",
        "import torch\n",
        "import torch.nn as nn\n",
        "import torch.optim as optim\n",
        "from torch.utils.data import Dataset, DataLoader\n",
        "from sklearn.metrics import f1_score\n",
        "import gensim.downloader as api\n",
        "import matplotlib.pyplot as plt\n",
        "from torch.nn.utils.rnn import pad_sequence"
      ]
    },
    {
      "cell_type": "code",
      "execution_count": 2,
      "id": "4249f5cd-f59c-48e6-8ac9-867cd1e87a35",
      "metadata": {
        "id": "4249f5cd-f59c-48e6-8ac9-867cd1e87a35",
        "outputId": "27c89312-66af-41b7-ea10-bf4ede513387",
        "colab": {
          "base_uri": "https://localhost:8080/"
        }
      },
      "outputs": [
        {
          "output_type": "stream",
          "name": "stderr",
          "text": [
            "[nltk_data] Downloading package punkt to /root/nltk_data...\n",
            "[nltk_data]   Unzipping tokenizers/punkt.zip.\n"
          ]
        }
      ],
      "source": [
        "# import nltk\n",
        "# nltk.download('punkt')\n",
        "\n",
        "# from nltk import word_tokenize,sent_tokenize"
      ]
    },
    {
      "cell_type": "markdown",
      "id": "dc7c1fd1-faf0-4a93-beab-c1eee16d7f80",
      "metadata": {
        "id": "dc7c1fd1-faf0-4a93-beab-c1eee16d7f80"
      },
      "source": [
        "# Unzip the Word2Vec"
      ]
    },
    {
      "cell_type": "code",
      "execution_count": null,
      "id": "e6bc98a4-a0ce-487d-befe-c70a7210a099",
      "metadata": {
        "id": "e6bc98a4-a0ce-487d-befe-c70a7210a099"
      },
      "outputs": [],
      "source": [
        "# import gzip\n",
        "\n",
        "# try:\n",
        "#     with gzip.open('GoogleNews-vectors-negative300.bin.gz', 'rb') as f_in, open('SGoogleNews-vectors-negative300.bin', 'wb') as f_out:\n",
        "#         f_out.write(f_in.read())\n",
        "#         print(\"Decompression complete! The uncompressed file is now available at /content/GoogleNews-vectors-negative300.bin\")\n",
        "# except FileNotFoundError:\n",
        "#     print(\"Error: File not found at the specified path. Please ensure the file exists and the path is correct.\")\n",
        "# except OSError as e:\n",
        "#     print(f\"Error: {e}\")\n"
      ]
    },
    {
      "cell_type": "markdown",
      "id": "954d0204-b565-403d-a739-bf75468d471b",
      "metadata": {
        "id": "954d0204-b565-403d-a739-bf75468d471b"
      },
      "source": [
        "# Load word2vec model"
      ]
    },
    {
      "cell_type": "code",
      "execution_count": null,
      "id": "1ace9215-7acf-4dd8-9aa2-bc1053df658b",
      "metadata": {
        "id": "1ace9215-7acf-4dd8-9aa2-bc1053df658b"
      },
      "outputs": [],
      "source": [
        "# word_vectors = KeyedVectors.load_word2vec_format('PGoogleNews-vectors-negative300.bin', binary=True)"
      ]
    },
    {
      "cell_type": "code",
      "source": [
        "word_vectors = api.load(\"word2vec-google-news-300\")"
      ],
      "metadata": {
        "colab": {
          "base_uri": "https://localhost:8080/"
        },
        "id": "nAwPpUEBQVJm",
        "outputId": "42bd2680-36c8-488a-9a18-2434294ecd92"
      },
      "id": "nAwPpUEBQVJm",
      "execution_count": 5,
      "outputs": [
        {
          "output_type": "stream",
          "name": "stdout",
          "text": [
            "[==================================================] 100.0% 1662.8/1662.8MB downloaded\n"
          ]
        }
      ]
    },
    {
      "cell_type": "markdown",
      "id": "972e885e-95df-4738-96b7-629a0aa746b5",
      "metadata": {
        "id": "972e885e-95df-4738-96b7-629a0aa746b5"
      },
      "source": [
        "# Define the LSTM-based model"
      ]
    },
    {
      "cell_type": "code",
      "execution_count": 6,
      "id": "f78a91c2-0039-4b8b-9298-fbe4c217e35a",
      "metadata": {
        "id": "f78a91c2-0039-4b8b-9298-fbe4c217e35a"
      },
      "outputs": [],
      "source": [
        "class LSTMTagger(nn.Module):\n",
        "    def __init__(self, embedding_dim, hidden_dim, vocab_size, tagset_size, word_embeddings):\n",
        "        super(LSTMTagger, self).__init__()\n",
        "        self.embedding = nn.Embedding.from_pretrained(word_embeddings, freeze=True)\n",
        "        self.lstm = nn.LSTM(embedding_dim, hidden_dim, batch_first=True)\n",
        "        self.linear = nn.Linear(hidden_dim, tagset_size)\n",
        "\n",
        "    def forward(self, sentence):\n",
        "        embeds = self.embedding(sentence)\n",
        "        lstm_out, _ = self.lstm(embeds)\n",
        "        tag_space = self.linear(lstm_out)\n",
        "        return tag_space"
      ]
    },
    {
      "cell_type": "markdown",
      "id": "db075322-3801-41a5-9c74-bb9039869463",
      "metadata": {
        "id": "db075322-3801-41a5-9c74-bb9039869463"
      },
      "source": [
        "# Data Preprocessing"
      ]
    },
    {
      "cell_type": "markdown",
      "id": "046b7abb-b692-4d43-8dcc-41c94fdcb021",
      "metadata": {
        "id": "046b7abb-b692-4d43-8dcc-41c94fdcb021"
      },
      "source": [
        "##### Load Data, Prepare Vocab and Padded Sequences."
      ]
    },
    {
      "cell_type": "code",
      "execution_count": 7,
      "id": "66f13af3-8de1-43df-b36a-204280822dfe",
      "metadata": {
        "id": "66f13af3-8de1-43df-b36a-204280822dfe"
      },
      "outputs": [],
      "source": [
        "class ReviewDataset(Dataset):\n",
        "    def __init__(self, data_path, word_vectors, max_seq_length):\n",
        "        self.data_path = data_path\n",
        "        self.word_vectors = word_vectors\n",
        "        self.max_seq_length = max_seq_length\n",
        "        self.data = self.load_data()\n",
        "        self.word_to_idx, self.label_to_idx = self.prepare_vocab()\n",
        "        self.X, self.y = self.prepare_data()\n",
        "\n",
        "    def load_data(self):\n",
        "        with open(self.data_path, 'r') as f:\n",
        "            data = json.load(f)\n",
        "        return data\n",
        "\n",
        "    def prepare_vocab(self):\n",
        "        word_to_idx = {word: idx + 1 for idx, word in enumerate(self.word_vectors.index_to_key)}\n",
        "        label_to_idx = {\"B\": 0, \"I\": 1, \"O\": 2}\n",
        "        return word_to_idx, label_to_idx\n",
        "\n",
        "    def prepare_data(self):\n",
        "        X, y = [], []\n",
        "        for sample in self.data.values():\n",
        "            text = sample['text'].split()\n",
        "            labels = sample['labels']\n",
        "            text_indices = [self.word_to_idx.get(word, 0) for word in text]\n",
        "            X.append(torch.tensor(text_indices))\n",
        "            y.append(torch.tensor([self.label_to_idx[label] for label in labels]))\n",
        "        X_padded = pad_sequence(X, batch_first=True, padding_value=0)\n",
        "        y_padded = pad_sequence(y, batch_first=True, padding_value=0)\n",
        "        return X_padded, y_padded\n",
        "\n",
        "    def __len__(self):\n",
        "        return len(self.data)\n",
        "\n",
        "    def __getitem__(self, idx):\n",
        "        return self.X[idx], self.y[idx]"
      ]
    },
    {
      "cell_type": "markdown",
      "id": "8483fec5-d0a3-41b0-8cbb-03961288a203",
      "metadata": {
        "id": "8483fec5-d0a3-41b0-8cbb-03961288a203"
      },
      "source": [
        "# Training Model Function"
      ]
    },
    {
      "cell_type": "code",
      "execution_count": 8,
      "id": "1ac38537-ea5d-4c5f-925a-90833f95dc24",
      "metadata": {
        "id": "1ac38537-ea5d-4c5f-925a-90833f95dc24"
      },
      "outputs": [],
      "source": [
        "def train_model(model, train_loader, val_loader, criterion, optimizer, num_epochs=10):\n",
        "    train_losses = []\n",
        "    val_losses = []\n",
        "    train_f1s = []\n",
        "    val_f1s = []\n",
        "\n",
        "    for epoch in range(num_epochs):\n",
        "        model.train()\n",
        "        total_loss = 0\n",
        "        train_all_preds = []\n",
        "        train_all_labels = []\n",
        "        for text, labels in train_loader:\n",
        "            optimizer.zero_grad()\n",
        "            outputs = model(text)\n",
        "            loss = criterion(outputs.view(-1, tagset_size), labels.view(-1))\n",
        "            loss.backward()\n",
        "            optimizer.step()\n",
        "            total_loss += loss.item()\n",
        "\n",
        "            _, predicted = torch.max(outputs, 2)\n",
        "            train_all_preds.extend(predicted.view(-1).cpu().numpy().tolist())\n",
        "            train_all_labels.extend(labels.view(-1).cpu().numpy().tolist())\n",
        "\n",
        "        val_loss = 0\n",
        "        val_all_preds = []\n",
        "        val_all_labels = []\n",
        "        with torch.no_grad():\n",
        "            model.eval()\n",
        "            for text, labels in val_loader:\n",
        "                outputs = model(text)\n",
        "                loss = criterion(outputs.view(-1, tagset_size), labels.view(-1))\n",
        "                val_loss += loss.item()\n",
        "\n",
        "                _, predicted = torch.max(outputs, 2)\n",
        "                val_all_preds.extend(predicted.view(-1).cpu().numpy().tolist())\n",
        "                val_all_labels.extend(labels.view(-1).cpu().numpy().tolist())\n",
        "\n",
        "        train_losses.append(total_loss / len(train_loader))\n",
        "        val_losses.append(val_loss / len(val_loader))\n",
        "        train_f1 = f1_score(train_all_labels, train_all_preds, average='macro')\n",
        "        val_f1 = f1_score(val_all_labels, val_all_preds, average='macro')\n",
        "        train_f1s.append(train_f1)\n",
        "        val_f1s.append(val_f1)\n",
        "\n",
        "        print(f\"Epoch {epoch+1}/{num_epochs}, Training Loss: {total_loss:.4f}, Validation Loss: {val_loss:.4f}, Training Macro-F1: {train_f1:.4f}, Validation Macro-F1: {val_f1:.4f}\")\n",
        "\n",
        "    return train_losses, val_losses, train_f1s, val_f1s\n"
      ]
    },
    {
      "cell_type": "markdown",
      "id": "316a79f1-e9ec-4d47-b6a8-6684dc99caac",
      "metadata": {
        "id": "316a79f1-e9ec-4d47-b6a8-6684dc99caac"
      },
      "source": [
        "# Main"
      ]
    },
    {
      "cell_type": "code",
      "execution_count": 9,
      "id": "16e2ecb8-c036-4eb4-87a4-26bf120de845",
      "metadata": {
        "id": "16e2ecb8-c036-4eb4-87a4-26bf120de845",
        "outputId": "14e7a048-7c21-4fa1-f644-1263fbdb94ca",
        "colab": {
          "base_uri": "https://localhost:8080/"
        }
      },
      "outputs": [
        {
          "output_type": "stream",
          "name": "stdout",
          "text": [
            "Epoch 1/10, Training Loss: 18.5904, Validation Loss: 1.3180, Training Macro-F1: 0.5196, Validation Macro-F1: 0.6153\n",
            "Epoch 2/10, Training Loss: 4.5229, Validation Loss: 0.8862, Training Macro-F1: 0.6262, Validation Macro-F1: 0.6324\n",
            "Epoch 3/10, Training Loss: 3.7920, Validation Loss: 0.8208, Training Macro-F1: 0.6333, Validation Macro-F1: 0.6346\n",
            "Epoch 4/10, Training Loss: 3.5961, Validation Loss: 0.7863, Training Macro-F1: 0.6351, Validation Macro-F1: 0.6359\n",
            "Epoch 5/10, Training Loss: 3.4539, Validation Loss: 0.7573, Training Macro-F1: 0.6360, Validation Macro-F1: 0.6364\n",
            "Epoch 6/10, Training Loss: 3.2809, Validation Loss: 0.7292, Training Macro-F1: 0.6365, Validation Macro-F1: 0.6375\n",
            "Epoch 7/10, Training Loss: 3.1274, Validation Loss: 0.7000, Training Macro-F1: 0.6372, Validation Macro-F1: 0.6380\n",
            "Epoch 8/10, Training Loss: 3.0351, Validation Loss: 0.6713, Training Macro-F1: 0.6385, Validation Macro-F1: 0.6392\n",
            "Epoch 9/10, Training Loss: 2.8717, Validation Loss: 0.6450, Training Macro-F1: 0.6393, Validation Macro-F1: 0.6398\n",
            "Epoch 10/10, Training Loss: 2.7564, Validation Loss: 0.6192, Training Macro-F1: 0.6405, Validation Macro-F1: 0.6405\n"
          ]
        }
      ],
      "source": [
        "max_seq_length = 100\n",
        "\n",
        "# Create data loaders\n",
        "train_dataset = ReviewDataset('ATE_train.json', word_vectors, max_seq_length)\n",
        "val_dataset = ReviewDataset('ATE_val.json', word_vectors, max_seq_length)\n",
        "test_dataset = ReviewDataset('ATE_test.json', word_vectors, max_seq_length)\n",
        "\n",
        "train_loader = DataLoader(train_dataset, batch_size=32, shuffle=True)\n",
        "val_loader = DataLoader(val_dataset, batch_size=32)\n",
        "test_loader = DataLoader(test_dataset, batch_size=32)\n",
        "\n",
        "# Define model parameters\n",
        "embedding_dim = word_vectors.vector_size\n",
        "hidden_dim = 128\n",
        "vocab_size = len(word_vectors.index_to_key)\n",
        "tagset_size = 3\n",
        "\n",
        "# Train the model\n",
        "model = LSTMTagger(embedding_dim, hidden_dim, vocab_size, tagset_size, torch.FloatTensor(word_vectors.vectors))\n",
        "criterion = nn.CrossEntropyLoss()\n",
        "optimizer = optim.Adam(model.parameters(), lr=0.001)\n",
        "\n",
        "train_losses, val_losses, train_f1s, val_f1s = train_model(model, train_loader, val_loader, criterion, optimizer, num_epochs=10)\n"
      ]
    },
    {
      "cell_type": "markdown",
      "id": "d92b26d4-19c7-48bd-8ca7-c2f33eb4064e",
      "metadata": {
        "id": "d92b26d4-19c7-48bd-8ca7-c2f33eb4064e"
      },
      "source": [
        "# Generate plots"
      ]
    },
    {
      "cell_type": "code",
      "execution_count": 10,
      "id": "a4343fd3-fd84-4b5d-b428-2fe64edfe387",
      "metadata": {
        "id": "a4343fd3-fd84-4b5d-b428-2fe64edfe387",
        "outputId": "6f358bac-17c4-4330-c2a6-4ce046ed36c3",
        "colab": {
          "base_uri": "https://localhost:8080/",
          "height": 410
        }
      },
      "outputs": [
        {
          "output_type": "display_data",
          "data": {
            "text/plain": [
              "<Figure size 1200x400 with 2 Axes>"
            ],
            "image/png": "[encoded data removed]"
          },
          "metadata": {}
        }
      ],
      "source": [
        "plt.figure(figsize=(12, 4))\n",
        "plt.subplot(1, 2, 1)\n",
        "plt.plot(train_losses, label='Training Loss')\n",
        "plt.plot(val_losses, label='Validation Loss')\n",
        "plt.xlabel('Epochs')\n",
        "plt.ylabel('Loss')\n",
        "plt.legend()\n",
        "plt.title('Training and Validation Loss')\n",
        "\n",
        "plt.subplot(1, 2, 2)\n",
        "plt.plot(train_f1s, label='Training Macro-F1')\n",
        "plt.plot(val_f1s, label='Validation Macro-F1')\n",
        "plt.xlabel('Epochs')\n",
        "plt.ylabel('Macro-F1')\n",
        "plt.legend()\n",
        "plt.title('Training and Validation Macro-F1')\n",
        "plt.show()"
      ]
    },
    {
      "cell_type": "markdown",
      "id": "82edbde0-4dff-42fe-a134-65ebaf2efe9b",
      "metadata": {
        "id": "82edbde0-4dff-42fe-a134-65ebaf2efe9b"
      },
      "source": [
        "# Save the model for future inference"
      ]
    },
    {
      "cell_type": "code",
      "execution_count": 11,
      "id": "292110b0-b534-4504-b954-a76ad84f91a2",
      "metadata": {
        "id": "292110b0-b534-4504-b954-a76ad84f91a2"
      },
      "outputs": [],
      "source": [
        "torch.save(model.state_dict(), 't2_model2_word2vec.pt')"
      ]
    },
    {
      "cell_type": "markdown",
      "id": "ca1a69ff-6673-4265-8976-d860011b1a2f",
      "metadata": {
        "id": "ca1a69ff-6673-4265-8976-d860011b1a2f"
      },
      "source": [
        "~fin~"
      ]
    }
  ],
  "metadata": {
    "kernelspec": {
      "display_name": "Python 3 (ipykernel)",
      "language": "python",
      "name": "python3"
    },
    "language_info": {
      "codemirror_mode": {
        "name": "ipython",
        "version": 3
      },
      "file_extension": ".py",
      "mimetype": "text/x-python",
      "name": "python",
      "nbconvert_exporter": "python",
      "pygments_lexer": "ipython3",
      "version": "3.12.1"
    },
    "colab": {
      "provenance": []
    }
  },
  "nbformat": 4,
  "nbformat_minor": 5
}