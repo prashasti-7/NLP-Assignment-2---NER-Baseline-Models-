{
  "cells": [
    {
      "cell_type": "code",
      "execution_count": null,
      "id": "04de8855-ec08-4211-bab8-158ad43a6fbf",
      "metadata": {
        "id": "04de8855-ec08-4211-bab8-158ad43a6fbf"
      },
      "outputs": [],
      "source": [
        "import numpy as np\n",
        "from tensorflow.keras.preprocessing.text import Tokenizer\n",
        "import json\n",
        "from keras.preprocessing.sequence import pad_sequences\n",
        "from keras.layers import Dropout, Input, Embedding, Activation, Dense, LSTM, Conv1D, MaxPool1D\n",
        "from keras.models import Sequential, Model\n",
        "import json\n",
        "import torch\n",
        "import torch.nn as nn\n",
        "import torch.optim as optim\n",
        "from torch.utils.data import Dataset, DataLoader\n",
        "from sklearn.metrics import f1_score\n",
        "import gensim.downloader as api\n",
        "import matplotlib.pyplot as plt\n",
        "from torch.nn.utils.rnn import pad_sequence"
      ]
    },
    {
      "cell_type": "code",
      "execution_count": null,
      "id": "53d96069-7e51-4dd8-be31-efbd56bdae76",
      "metadata": {
        "id": "53d96069-7e51-4dd8-be31-efbd56bdae76"
      },
      "outputs": [],
      "source": [
        "# import zipfile\n",
        "# zip_file_path = 'glove.6B.zip'\n",
        "# extract_dir = 'path/to/extract'\n",
        "\n",
        "# with zipfile.ZipFile(zip_file_path, 'r') as zip_ref:\n",
        "#     zip_ref.extractall()\n",
        "#     file_names = zip_ref.namelist()\n",
        "\n",
        "# print(\"File unzipped successfully!\")\n",
        "# print(\"Names of the files after unzipping:\", file_names)"
      ]
    },
    {
      "cell_type": "code",
      "execution_count": null,
      "id": "feeb2a67-1837-438e-bcbc-983ef13aeaac",
      "metadata": {
        "id": "feeb2a67-1837-438e-bcbc-983ef13aeaac"
      },
      "outputs": [],
      "source": []
    },
    {
      "cell_type": "code",
      "execution_count": null,
      "id": "6d364729-d635-4f7c-b79f-a2656fd1b04c",
      "metadata": {
        "id": "6d364729-d635-4f7c-b79f-a2656fd1b04c",
        "colab": {
          "base_uri": "https://localhost:8080/"
        },
        "outputId": "1ec7dbe3-7a46-4c4e-db69-eb2458e9617d"
      },
      "outputs": [
        {
          "output_type": "stream",
          "name": "stdout",
          "text": [
            "[==================================================] 100.0% 376.1/376.1MB downloaded\n"
          ]
        }
      ],
      "source": [
        "glove_vectors = api.load(\"glove-wiki-gigaword-300\")"
      ]
    },
    {
      "cell_type": "markdown",
      "id": "13065514-7167-46b4-87d7-699cd704578b",
      "metadata": {
        "id": "13065514-7167-46b4-87d7-699cd704578b"
      },
      "source": [
        "# Define the LSTM-based model"
      ]
    },
    {
      "cell_type": "code",
      "execution_count": null,
      "id": "aba9ee68-47a0-48c3-ae09-8c1163034f0c",
      "metadata": {
        "id": "aba9ee68-47a0-48c3-ae09-8c1163034f0c"
      },
      "outputs": [],
      "source": [
        "class LSTMTagger(nn.Module):\n",
        "    def __init__(self, embedding_dim, hidden_dim, vocab_size, tagset_size, word_embeddings):\n",
        "        super(LSTMTagger, self).__init__()\n",
        "        self.embedding = nn.Embedding.from_pretrained(word_embeddings, freeze=True)\n",
        "        self.lstm = nn.LSTM(embedding_dim, hidden_dim, batch_first=True)\n",
        "        self.linear = nn.Linear(hidden_dim, tagset_size)\n",
        "\n",
        "    def forward(self, sentence):\n",
        "        embeds = self.embedding(sentence)\n",
        "        lstm_out, _ = self.lstm(embeds)\n",
        "        tag_space = self.linear(lstm_out)\n",
        "        return tag_space"
      ]
    },
    {
      "cell_type": "markdown",
      "id": "bd6059f7-76a1-4683-aead-4531c67c28a0",
      "metadata": {
        "id": "bd6059f7-76a1-4683-aead-4531c67c28a0"
      },
      "source": [
        "# Data Preprocessing"
      ]
    },
    {
      "cell_type": "markdown",
      "id": "e5f255ee-7ed3-4b03-8f66-e6ba0be585a5",
      "metadata": {
        "id": "e5f255ee-7ed3-4b03-8f66-e6ba0be585a5"
      },
      "source": [
        "##### Load Data, Prepare Vocab and Padded Sequences."
      ]
    },
    {
      "cell_type": "code",
      "execution_count": null,
      "id": "89c2641d-68b4-4540-825f-491c68a0b1a9",
      "metadata": {
        "id": "89c2641d-68b4-4540-825f-491c68a0b1a9"
      },
      "outputs": [],
      "source": [
        "class ReviewDataset(Dataset):\n",
        "    def __init__(self, data_path, glove_vectors, max_seq_length):\n",
        "        self.data_path = data_path\n",
        "        self.glove_vectors = glove_vectors\n",
        "        self.max_seq_length = max_seq_length\n",
        "        self.data = self.load_data()\n",
        "        self.word_to_idx, self.label_to_idx = self.prepare_vocab()\n",
        "        self.X, self.y = self.prepare_data()\n",
        "\n",
        "    def load_data(self):\n",
        "        with open(self.data_path, 'r') as f:\n",
        "            data = json.load(f)\n",
        "        return data\n",
        "\n",
        "    def prepare_vocab(self):\n",
        "        word_to_idx = {word: idx + 1 for idx, word in enumerate(self.glove_vectors.index_to_key)}\n",
        "        label_to_idx = {\"B\": 0, \"I\": 1, \"O\": 2}\n",
        "        return word_to_idx, label_to_idx\n",
        "\n",
        "    def prepare_data(self):\n",
        "        X, y = [], []\n",
        "        for sample in self.data.values():\n",
        "            text = sample['text'].split()\n",
        "            labels = sample['labels']\n",
        "            text_indices = [self.word_to_idx.get(word, 0) for word in text]\n",
        "            X.append(torch.tensor(text_indices))\n",
        "            y.append(torch.tensor([self.label_to_idx[label] for label in labels]))\n",
        "        X_padded = pad_sequence(X, batch_first=True, padding_value=0)\n",
        "        y_padded = pad_sequence(y, batch_first=True, padding_value=0)\n",
        "        return X_padded, y_padded\n",
        "\n",
        "    def __len__(self):\n",
        "        return len(self.data)\n",
        "\n",
        "    def __getitem__(self, idx):\n",
        "        return self.X[idx], self.y[idx]\n"
      ]
    },
    {
      "cell_type": "markdown",
      "id": "d57efff6-045d-4f72-ac4c-b542a19a8816",
      "metadata": {
        "id": "d57efff6-045d-4f72-ac4c-b542a19a8816"
      },
      "source": [
        "# TrainingModel Function"
      ]
    },
    {
      "cell_type": "code",
      "execution_count": null,
      "id": "a32d8cc6-a2cd-4b81-9599-848c47c20545",
      "metadata": {
        "id": "a32d8cc6-a2cd-4b81-9599-848c47c20545"
      },
      "outputs": [],
      "source": [
        "def train_model(model, train_loader, val_loader, criterion, optimizer, num_epochs=10):\n",
        "    train_losses = []\n",
        "    val_losses = []\n",
        "    train_f1s = []\n",
        "    val_f1s = []\n",
        "\n",
        "    for epoch in range(num_epochs):\n",
        "        model.train()\n",
        "        total_loss = 0\n",
        "        train_all_preds = []\n",
        "        train_all_labels = []\n",
        "        for text, labels in train_loader:\n",
        "            optimizer.zero_grad()\n",
        "            outputs = model(text)\n",
        "            loss = criterion(outputs.view(-1, tagset_size), labels.view(-1))\n",
        "            loss.backward()\n",
        "            optimizer.step()\n",
        "            total_loss += loss.item()\n",
        "\n",
        "            _, predicted = torch.max(outputs, 2)\n",
        "            train_all_preds.extend(predicted.view(-1).cpu().numpy().tolist())\n",
        "            train_all_labels.extend(labels.view(-1).cpu().numpy().tolist())\n",
        "\n",
        "        val_loss = 0\n",
        "        val_all_preds = []\n",
        "        val_all_labels = []\n",
        "        with torch.no_grad():\n",
        "            model.eval()\n",
        "            for text, labels in val_loader:\n",
        "                outputs = model(text)\n",
        "                loss = criterion(outputs.view(-1, tagset_size), labels.view(-1))\n",
        "                val_loss += loss.item()\n",
        "\n",
        "                _, predicted = torch.max(outputs, 2)\n",
        "                val_all_preds.extend(predicted.view(-1).cpu().numpy().tolist())\n",
        "                val_all_labels.extend(labels.view(-1).cpu().numpy().tolist())\n",
        "\n",
        "        train_losses.append(total_loss / len(train_loader))\n",
        "        val_losses.append(val_loss / len(val_loader))\n",
        "        train_f1 = f1_score(train_all_labels, train_all_preds, average='macro')\n",
        "        val_f1 = f1_score(val_all_labels, val_all_preds, average='macro')\n",
        "        train_f1s.append(train_f1)\n",
        "        val_f1s.append(val_f1)\n",
        "\n",
        "        print(f\"Epoch {epoch+1}/{num_epochs}, Training Loss: {total_loss:.4f}, Validation Loss: {val_loss:.4f}, Training Macro-F1: {train_f1:.4f}, Validation Macro-F1: {val_f1:.4f}\")\n",
        "\n",
        "    return train_losses, val_losses, train_f1s, val_f1s\n"
      ]
    },
    {
      "cell_type": "markdown",
      "id": "cefdfed3-1921-4210-b9fe-cf33e34306fa",
      "metadata": {
        "id": "cefdfed3-1921-4210-b9fe-cf33e34306fa"
      },
      "source": [
        "# Main Function"
      ]
    },
    {
      "cell_type": "code",
      "execution_count": null,
      "id": "0959f44b-71a6-40ea-a8d3-3629595f238a",
      "metadata": {
        "id": "0959f44b-71a6-40ea-a8d3-3629595f238a",
        "outputId": "69dafae6-9f8b-4883-bef2-6bc60efa85cf",
        "colab": {
          "base_uri": "https://localhost:8080/"
        }
      },
      "outputs": [
        {
          "output_type": "stream",
          "name": "stdout",
          "text": [
            "Epoch 1/10, Training Loss: 10.3701, Validation Loss: 1.0233, Training Macro-F1: 0.4986, Validation Macro-F1: 0.6177\n",
            "Epoch 2/10, Training Loss: 3.9964, Validation Loss: 0.8121, Training Macro-F1: 0.6234, Validation Macro-F1: 0.6305\n",
            "Epoch 3/10, Training Loss: 3.4084, Validation Loss: 0.6961, Training Macro-F1: 0.6296, Validation Macro-F1: 0.6318\n",
            "Epoch 4/10, Training Loss: 3.2489, Validation Loss: 0.7154, Training Macro-F1: 0.6390, Validation Macro-F1: 0.6412\n",
            "Epoch 5/10, Training Loss: 3.0462, Validation Loss: 0.6577, Training Macro-F1: 0.6402, Validation Macro-F1: 0.6426\n",
            "Epoch 6/10, Training Loss: 2.7321, Validation Loss: 0.5973, Training Macro-F1: 0.6410, Validation Macro-F1: 0.6487\n",
            "Epoch 7/10, Training Loss: 2.5168, Validation Loss: 0.5640, Training Macro-F1: 0.6423, Validation Macro-F1: 0.6537\n",
            "Epoch 8/10, Training Loss: 2.3973, Validation Loss: 0.6484, Training Macro-F1: 0.6482, Validation Macro-F1: 0.6545\n",
            "Epoch 9/10, Training Loss: 2.4973, Validation Loss: 0.5469, Training Macro-F1: 0.6603, Validation Macro-F1: 0.6592\n",
            "Epoch 10/10, Training Loss: 2.2675, Validation Loss: 0.5200, Training Macro-F1: 0.6701, Validation Macro-F1: 0.6596\n"
          ]
        }
      ],
      "source": [
        "max_seq_length = 100\n",
        "\n",
        "# Create data loaders\n",
        "train_dataset = ReviewDataset('ATE_train.json', glove_vectors, max_seq_length)\n",
        "val_dataset = ReviewDataset('ATE_val.json', glove_vectors, max_seq_length)\n",
        "test_dataset = ReviewDataset('ATE_test.json', glove_vectors, max_seq_length)\n",
        "\n",
        "train_loader = DataLoader(train_dataset, batch_size=32, shuffle=True)\n",
        "val_loader = DataLoader(val_dataset, batch_size=32)\n",
        "test_loader = DataLoader(test_dataset, batch_size=32)\n",
        "\n",
        "# Define model parameters\n",
        "embedding_dim = glove_vectors.vector_size\n",
        "hidden_dim = 128\n",
        "vocab_size = len(glove_vectors.index_to_key)\n",
        "tagset_size = 3\n",
        "\n",
        "# Train the model\n",
        "model = LSTMTagger(embedding_dim, hidden_dim, vocab_size, tagset_size, torch.FloatTensor(glove_vectors.vectors))\n",
        "criterion = nn.CrossEntropyLoss()\n",
        "optimizer = optim.Adam(model.parameters(), lr=0.001)\n",
        "\n",
        "train_losses, val_losses, train_f1s, val_f1s = train_model(model, train_loader, val_loader, criterion, optimizer, num_epochs=10)\n"
      ]
    },
    {
      "cell_type": "markdown",
      "id": "07883acc-6818-43bb-b32b-30dd9f3a8858",
      "metadata": {
        "id": "07883acc-6818-43bb-b32b-30dd9f3a8858"
      },
      "source": [
        "# Generate plots"
      ]
    },
    {
      "cell_type": "code",
      "execution_count": null,
      "id": "a67c5c4e-8762-48c1-9987-af66bc23ea55",
      "metadata": {
        "id": "a67c5c4e-8762-48c1-9987-af66bc23ea55",
        "outputId": "dd3fd2a4-53c7-445f-8332-02d2da56bf92",
        "colab": {
          "base_uri": "https://localhost:8080/",
          "height": 410
        }
      },
      "outputs": [
        {
          "output_type": "display_data",
          "data": {
            "text/plain": [
              "<Figure size 1200x400 with 2 Axes>"
            ],
            "image/png": "[encoded data removed]"
          },
          "metadata": {}
        }
      ],
      "source": [
        "plt.figure(figsize=(12, 4))\n",
        "plt.subplot(1, 2, 1)\n",
        "plt.plot(train_losses, label='Training Loss')\n",
        "plt.plot(val_losses, label='Validation Loss')\n",
        "plt.xlabel('Epochs')\n",
        "plt.ylabel('Loss')\n",
        "plt.legend()\n",
        "plt.title('Training and Validation Loss')\n",
        "\n",
        "plt.subplot(1, 2, 2)\n",
        "plt.plot(train_f1s, label='Training Macro-F1')\n",
        "plt.plot(val_f1s, label='Validation Macro-F1')\n",
        "plt.xlabel('Epochs')\n",
        "plt.ylabel('Macro-F1')\n",
        "plt.legend()\n",
        "plt.title('Training and Validation Macro-F1')\n",
        "plt.show()\n",
        "\n"
      ]
    },
    {
      "cell_type": "markdown",
      "id": "3aeae630-efef-448e-a83b-836906d81ad7",
      "metadata": {
        "id": "3aeae630-efef-448e-a83b-836906d81ad7"
      },
      "source": [
        "# Save the model for future inference"
      ]
    },
    {
      "cell_type": "code",
      "execution_count": null,
      "id": "e46d6693-5909-48b9-a564-feec715e61a1",
      "metadata": {
        "id": "e46d6693-5909-48b9-a564-feec715e61a1"
      },
      "outputs": [],
      "source": [
        "torch.save(model.state_dict(), 't2_model2_GloVe.pt')"
      ]
    },
    {
      "cell_type": "code",
      "source": [],
      "metadata": {
        "id": "UTDiQfhvN0-_"
      },
      "id": "UTDiQfhvN0-_",
      "execution_count": null,
      "outputs": []
    }
  ],
  "metadata": {
    "kernelspec": {
      "display_name": "Python 3 (ipykernel)",
      "language": "python",
      "name": "python3"
    },
    "language_info": {
      "codemirror_mode": {
        "name": "ipython",
        "version": 3
      },
      "file_extension": ".py",
      "mimetype": "text/x-python",
      "name": "python",
      "nbconvert_exporter": "python",
      "pygments_lexer": "ipython3",
      "version": "3.12.1"
    },
    "colab": {
      "provenance": []
    }
  },
  "nbformat": 4,
  "nbformat_minor": 5
}