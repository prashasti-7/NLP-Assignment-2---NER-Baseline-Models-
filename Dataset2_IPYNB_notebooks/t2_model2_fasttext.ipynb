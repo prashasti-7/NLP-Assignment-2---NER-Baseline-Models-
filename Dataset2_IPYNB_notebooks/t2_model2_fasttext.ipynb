{
  "cells": [
    {
      "cell_type": "markdown",
      "id": "589af075-f33c-487f-a5d7-a77c20bf4700",
      "metadata": {
        "id": "589af075-f33c-487f-a5d7-a77c20bf4700"
      },
      "source": [
        "# Import required libraries"
      ]
    },
    {
      "cell_type": "code",
      "execution_count": 2,
      "id": "2d3e0769-47d3-460b-9adc-65f50104fabc",
      "metadata": {
        "id": "2d3e0769-47d3-460b-9adc-65f50104fabc"
      },
      "outputs": [],
      "source": [
        "import json\n",
        "import torch\n",
        "import torch.nn as nn\n",
        "import torch.optim as optim\n",
        "from torch.utils.data import Dataset, DataLoader\n",
        "from sklearn.metrics import f1_score\n",
        "import gensim.downloader as api\n",
        "import matplotlib.pyplot as plt\n",
        "from torch.nn.utils.rnn import pad_sequence"
      ]
    },
    {
      "cell_type": "markdown",
      "source": [
        "# Load FastText model"
      ],
      "metadata": {
        "id": "1UWsEZ40Pn0i"
      },
      "id": "1UWsEZ40Pn0i"
    },
    {
      "cell_type": "code",
      "source": [
        "# Load FastText embeddings\n",
        "word_vectors = api.load(\"fasttext-wiki-news-subwords-300\")\n"
      ],
      "metadata": {
        "colab": {
          "base_uri": "https://localhost:8080/"
        },
        "id": "5r_I43E9PlFU",
        "outputId": "f3b69889-49c1-41c1-aa77-6e67cdb137a1"
      },
      "id": "5r_I43E9PlFU",
      "execution_count": 3,
      "outputs": [
        {
          "output_type": "stream",
          "name": "stdout",
          "text": [
            "[==================================================] 100.0% 958.5/958.4MB downloaded\n"
          ]
        }
      ]
    },
    {
      "cell_type": "markdown",
      "id": "5762ee54-8a4a-4a4b-930c-8eb90e52f92d",
      "metadata": {
        "id": "5762ee54-8a4a-4a4b-930c-8eb90e52f92d"
      },
      "source": [
        "# Define the LSTM-based model"
      ]
    },
    {
      "cell_type": "code",
      "execution_count": 4,
      "id": "288a6f92-a534-402b-93bb-020a84df90fd",
      "metadata": {
        "id": "288a6f92-a534-402b-93bb-020a84df90fd"
      },
      "outputs": [],
      "source": [
        "class LSTMTagger(nn.Module):\n",
        "    def __init__(self, embedding_dim, hidden_dim, vocab_size, tagset_size, word_embeddings):\n",
        "        super(LSTMTagger, self).__init__()\n",
        "        self.embedding = nn.Embedding.from_pretrained(word_embeddings, freeze=True)\n",
        "        self.lstm = nn.LSTM(embedding_dim, hidden_dim, batch_first=True)\n",
        "        self.linear = nn.Linear(hidden_dim, tagset_size)\n",
        "\n",
        "    def forward(self, sentence):\n",
        "        embeds = self.embedding(sentence)\n",
        "        lstm_out, _ = self.lstm(embeds)\n",
        "        tag_space = self.linear(lstm_out)\n",
        "        return tag_space"
      ]
    },
    {
      "cell_type": "markdown",
      "id": "66a6ea12-4b5a-439c-a243-31ad1335577b",
      "metadata": {
        "id": "66a6ea12-4b5a-439c-a243-31ad1335577b"
      },
      "source": [
        "# Data Preprocessing"
      ]
    },
    {
      "cell_type": "markdown",
      "id": "72c39b95-051c-46e7-8401-b11880c47706",
      "metadata": {
        "id": "72c39b95-051c-46e7-8401-b11880c47706"
      },
      "source": [
        "##### Load Data, Prepare Vocab and Padded Sequences."
      ]
    },
    {
      "cell_type": "code",
      "execution_count": 5,
      "id": "cbb93ad2-ff31-4b36-ae6d-838faa374def",
      "metadata": {
        "id": "cbb93ad2-ff31-4b36-ae6d-838faa374def"
      },
      "outputs": [],
      "source": [
        "class ReviewDataset(Dataset):\n",
        "    def __init__(self, data_path, word_vectors, max_seq_length):\n",
        "        self.data_path = data_path\n",
        "        self.word_vectors = word_vectors\n",
        "        self.max_seq_length = max_seq_length\n",
        "        self.data = self.load_data()\n",
        "        self.word_to_idx, self.label_to_idx = self.prepare_vocab()\n",
        "        self.X, self.y = self.prepare_data()\n",
        "\n",
        "    def load_data(self):\n",
        "        with open(self.data_path, 'r') as f:\n",
        "            data = json.load(f)\n",
        "        return data\n",
        "\n",
        "    def prepare_vocab(self):\n",
        "        word_to_idx = {word: idx + 1 for idx, word in enumerate(self.word_vectors.index_to_key)}\n",
        "        label_to_idx = {\"B\": 0, \"I\": 1, \"O\": 2}\n",
        "        return word_to_idx, label_to_idx\n",
        "\n",
        "    def prepare_data(self):\n",
        "        X, y = [], []\n",
        "        for sample in self.data.values():\n",
        "            text = sample['text'].split()\n",
        "            labels = sample['labels']\n",
        "            text_indices = [self.word_to_idx.get(word, 0) for word in text]\n",
        "            X.append(torch.tensor(text_indices))\n",
        "            y.append(torch.tensor([self.label_to_idx[label] for label in labels]))\n",
        "        X_padded = pad_sequence(X, batch_first=True, padding_value=0)\n",
        "        y_padded = pad_sequence(y, batch_first=True, padding_value=0)\n",
        "        return X_padded, y_padded\n",
        "\n",
        "    def __len__(self):\n",
        "        return len(self.data)\n",
        "\n",
        "    def __getitem__(self, idx):\n",
        "        return self.X[idx], self.y[idx]"
      ]
    },
    {
      "cell_type": "markdown",
      "id": "60adbe33-77d0-43c0-ace0-56bce08bffd3",
      "metadata": {
        "id": "60adbe33-77d0-43c0-ace0-56bce08bffd3"
      },
      "source": [
        "# Training Model Function"
      ]
    },
    {
      "cell_type": "code",
      "execution_count": 6,
      "id": "f27657c8-01a5-4efc-9090-c67e037dc405",
      "metadata": {
        "id": "f27657c8-01a5-4efc-9090-c67e037dc405"
      },
      "outputs": [],
      "source": [
        "def train_model(model, train_loader, val_loader, criterion, optimizer, num_epochs=10):\n",
        "    train_losses = []\n",
        "    val_losses = []\n",
        "    train_f1s = []\n",
        "    val_f1s = []\n",
        "\n",
        "    for epoch in range(num_epochs):\n",
        "        model.train()\n",
        "        total_loss = 0\n",
        "        train_all_preds = []\n",
        "        train_all_labels = []\n",
        "        for text, labels in train_loader:\n",
        "            optimizer.zero_grad()\n",
        "            outputs = model(text)\n",
        "            loss = criterion(outputs.view(-1, tagset_size), labels.view(-1))\n",
        "            loss.backward()\n",
        "            optimizer.step()\n",
        "            total_loss += loss.item()\n",
        "\n",
        "            _, predicted = torch.max(outputs, 2)\n",
        "            train_all_preds.extend(predicted.view(-1).cpu().numpy().tolist())\n",
        "            train_all_labels.extend(labels.view(-1).cpu().numpy().tolist())\n",
        "\n",
        "        val_loss = 0\n",
        "        val_all_preds = []\n",
        "        val_all_labels = []\n",
        "        with torch.no_grad():\n",
        "            model.eval()\n",
        "            for text, labels in val_loader:\n",
        "                outputs = model(text)\n",
        "                loss = criterion(outputs.view(-1, tagset_size), labels.view(-1))\n",
        "                val_loss += loss.item()\n",
        "\n",
        "                _, predicted = torch.max(outputs, 2)\n",
        "                val_all_preds.extend(predicted.view(-1).cpu().numpy().tolist())\n",
        "                val_all_labels.extend(labels.view(-1).cpu().numpy().tolist())\n",
        "\n",
        "        train_losses.append(total_loss / len(train_loader))\n",
        "        val_losses.append(val_loss / len(val_loader))\n",
        "        train_f1 = f1_score(train_all_labels, train_all_preds, average='macro')\n",
        "        val_f1 = f1_score(val_all_labels, val_all_preds, average='macro')\n",
        "        train_f1s.append(train_f1)\n",
        "        val_f1s.append(val_f1)\n",
        "\n",
        "        print(f\"Epoch {epoch+1}/{num_epochs}, Training Loss: {total_loss:.4f}, Validation Loss: {val_loss:.4f}, Training Macro-F1: {train_f1:.4f}, Validation Macro-F1: {val_f1:.4f}\")\n",
        "\n",
        "    return train_losses, val_losses, train_f1s, val_f1s"
      ]
    },
    {
      "cell_type": "markdown",
      "id": "4e230075-d2ed-480b-a8f5-2f03cbd63c9c",
      "metadata": {
        "id": "4e230075-d2ed-480b-a8f5-2f03cbd63c9c"
      },
      "source": [
        "# Main Function"
      ]
    },
    {
      "cell_type": "code",
      "execution_count": 7,
      "id": "8092f81d-9481-4659-b73a-7f63740cbb1e",
      "metadata": {
        "id": "8092f81d-9481-4659-b73a-7f63740cbb1e",
        "outputId": "98c59dc1-c90d-47f6-ab88-e22bd29bff04",
        "colab": {
          "base_uri": "https://localhost:8080/"
        }
      },
      "outputs": [
        {
          "output_type": "stream",
          "name": "stdout",
          "text": [
            "Epoch 1/10, Training Loss: 15.0652, Validation Loss: 1.5708, Training Macro-F1: 0.4321, Validation Macro-F1: 0.6222\n",
            "Epoch 2/10, Training Loss: 5.3157, Validation Loss: 0.9194, Training Macro-F1: 0.6259, Validation Macro-F1: 0.6310\n",
            "Epoch 3/10, Training Loss: 3.7799, Validation Loss: 0.7984, Training Macro-F1: 0.6321, Validation Macro-F1: 0.6385\n",
            "Epoch 4/10, Training Loss: 3.4741, Validation Loss: 0.7411, Training Macro-F1: 0.6394, Validation Macro-F1: 0.6411\n",
            "Epoch 5/10, Training Loss: 3.2456, Validation Loss: 0.7049, Training Macro-F1: 0.6407, Validation Macro-F1: 0.6417\n",
            "Epoch 6/10, Training Loss: 3.1153, Validation Loss: 0.6777, Training Macro-F1: 0.6411, Validation Macro-F1: 0.6418\n",
            "Epoch 7/10, Training Loss: 2.9992, Validation Loss: 0.6565, Training Macro-F1: 0.6413, Validation Macro-F1: 0.6416\n",
            "Epoch 8/10, Training Loss: 2.8997, Validation Loss: 0.6316, Training Macro-F1: 0.6413, Validation Macro-F1: 0.6418\n",
            "Epoch 9/10, Training Loss: 2.7846, Validation Loss: 0.6079, Training Macro-F1: 0.6415, Validation Macro-F1: 0.6422\n",
            "Epoch 10/10, Training Loss: 2.6633, Validation Loss: 0.5840, Training Macro-F1: 0.6420, Validation Macro-F1: 0.6426\n"
          ]
        }
      ],
      "source": [
        "max_seq_length = 100\n",
        "\n",
        "# Create data loaders\n",
        "train_dataset = ReviewDataset('ATE_train.json', word_vectors, max_seq_length)\n",
        "val_dataset = ReviewDataset('ATE_val.json', word_vectors, max_seq_length)\n",
        "test_dataset = ReviewDataset('ATE_test.json', word_vectors, max_seq_length)\n",
        "\n",
        "train_loader = DataLoader(train_dataset, batch_size=32, shuffle=True)\n",
        "val_loader = DataLoader(val_dataset, batch_size=32)\n",
        "test_loader = DataLoader(test_dataset, batch_size=32)\n",
        "\n",
        "# Define model parameters\n",
        "embedding_dim = word_vectors.vector_size\n",
        "hidden_dim = 128\n",
        "vocab_size = len(word_vectors.index_to_key)\n",
        "tagset_size = 3\n",
        "\n",
        "# Train the model\n",
        "model = LSTMTagger(embedding_dim, hidden_dim, vocab_size, tagset_size, torch.FloatTensor(word_vectors.vectors))\n",
        "criterion = nn.CrossEntropyLoss()\n",
        "optimizer = optim.Adam(model.parameters(), lr=0.001)\n",
        "\n",
        "train_losses, val_losses, train_f1s, val_f1s = train_model(model, train_loader, val_loader, criterion, optimizer, num_epochs=10)"
      ]
    },
    {
      "cell_type": "markdown",
      "id": "c620c8c7-cb5a-4f78-8f29-74ece8e19890",
      "metadata": {
        "id": "c620c8c7-cb5a-4f78-8f29-74ece8e19890"
      },
      "source": [
        "# Generate plots"
      ]
    },
    {
      "cell_type": "code",
      "execution_count": 8,
      "id": "82eb30f1-b677-4de0-a6cd-a7d417aa2cbb",
      "metadata": {
        "id": "82eb30f1-b677-4de0-a6cd-a7d417aa2cbb",
        "outputId": "301bedd7-8bdd-4eed-9c9a-df4f9f328000",
        "colab": {
          "base_uri": "https://localhost:8080/",
          "height": 410
        }
      },
      "outputs": [
        {
          "output_type": "display_data",
          "data": {
            "text/plain": [
              "<Figure size 1200x400 with 2 Axes>"
            ],
            "image/png": "[encoded data removed]"
          },
          "metadata": {}
        }
      ],
      "source": [
        "plt.figure(figsize=(12, 4))\n",
        "plt.subplot(1, 2, 1)\n",
        "plt.plot(train_losses, label='Training Loss')\n",
        "plt.plot(val_losses, label='Validation Loss')\n",
        "plt.xlabel('Epochs')\n",
        "plt.ylabel('Loss')\n",
        "plt.legend()\n",
        "plt.title('Training and Validation Loss')\n",
        "\n",
        "plt.subplot(1, 2, 2)\n",
        "plt.plot(train_f1s, label='Training Macro-F1')\n",
        "plt.plot(val_f1s, label='Validation Macro-F1')\n",
        "plt.xlabel('Epochs')\n",
        "plt.ylabel('Macro-F1')\n",
        "plt.legend()\n",
        "plt.title('Training and Validation Macro-F1')\n",
        "plt.show()"
      ]
    },
    {
      "cell_type": "markdown",
      "id": "7003771d-f298-488c-b895-e69b7f940294",
      "metadata": {
        "id": "7003771d-f298-488c-b895-e69b7f940294"
      },
      "source": [
        "# Save the model for future inference"
      ]
    },
    {
      "cell_type": "code",
      "execution_count": 9,
      "id": "78536c68-cf2b-4613-865c-6ce76d452da6",
      "metadata": {
        "id": "78536c68-cf2b-4613-865c-6ce76d452da6"
      },
      "outputs": [],
      "source": [
        "torch.save(model.state_dict(), 't2_model2_fasttext.pt')"
      ]
    },
    {
      "cell_type": "code",
      "source": [],
      "metadata": {
        "id": "0YnKmtoHPq_l"
      },
      "id": "0YnKmtoHPq_l",
      "execution_count": null,
      "outputs": []
    }
  ],
  "metadata": {
    "kernelspec": {
      "display_name": "Python 3 (ipykernel)",
      "language": "python",
      "name": "python3"
    },
    "language_info": {
      "codemirror_mode": {
        "name": "ipython",
        "version": 3
      },
      "file_extension": ".py",
      "mimetype": "text/x-python",
      "name": "python",
      "nbconvert_exporter": "python",
      "pygments_lexer": "ipython3",
      "version": "3.12.1"
    },
    "colab": {
      "provenance": []
    }
  },
  "nbformat": 4,
  "nbformat_minor": 5
}