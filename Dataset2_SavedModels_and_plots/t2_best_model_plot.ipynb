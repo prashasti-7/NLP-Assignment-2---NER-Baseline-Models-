{
 "cells": [
  {
   "cell_type": "markdown",
   "metadata": {},
   "source": [
    "# Best Model for dataset 2"
   ]
  },
  {
   "cell_type": "markdown",
   "metadata": {},
   "source": [
    "### RNN with Glove embedding"
   ]
  },
  {
   "cell_type": "code",
   "execution_count": 1,
   "metadata": {},
   "outputs": [],
   "source": [
    "import json\n",
    "import torch\n",
    "import torch.nn as nn\n",
    "import torch.optim as optim\n",
    "from torch.utils.data import Dataset, DataLoader\n",
    "from sklearn.metrics import f1_score\n",
    "import gensim.downloader as api\n",
    "import matplotlib.pyplot as plt\n",
    "from torch.nn.utils.rnn import pad_sequence"
   ]
  },
  {
   "cell_type": "code",
   "execution_count": 2,
   "metadata": {},
   "outputs": [],
   "source": [
    "# Load pre-trained word embeddings (GloVe)\n",
    "glove_vectors = api.load(\"glove-wiki-gigaword-300\")"
   ]
  },
  {
   "cell_type": "code",
   "execution_count": 3,
   "metadata": {},
   "outputs": [],
   "source": [
    "# Define the RNN-based model with vanilla RNN layer\n",
    "class RNNTagger(nn.Module):\n",
    "    def __init__(self, embedding_dim, hidden_dim, vocab_size, tagset_size, word_embeddings):\n",
    "        super(RNNTagger, self).__init__()\n",
    "        self.embedding = nn.Embedding.from_pretrained(word_embeddings, freeze=True)\n",
    "        self.rnn = nn.RNN(embedding_dim, hidden_dim, batch_first=True)\n",
    "        self.linear = nn.Linear(hidden_dim, tagset_size)\n",
    "\n",
    "    def forward(self, sentence):\n",
    "        embeds = self.embedding(sentence)\n",
    "        rnn_out, _ = self.rnn(embeds)\n",
    "        tag_space = self.linear(rnn_out)\n",
    "        return tag_space\n",
    "\n",
    "class ReviewDataset(Dataset):\n",
    "    def __init__(self, data_path, word_vectors, max_seq_length):\n",
    "        self.data_path = data_path\n",
    "        self.word_vectors = word_vectors\n",
    "        self.max_seq_length = max_seq_length\n",
    "        self.data = self.load_data()\n",
    "        self.word_to_idx, self.label_to_idx = self.prepare_vocab()\n",
    "        self.X, self.y = self.prepare_data()\n",
    "\n",
    "    def load_data(self):\n",
    "        with open(self.data_path, 'r') as f:\n",
    "            data = json.load(f)\n",
    "        return data\n",
    "\n",
    "    def prepare_vocab(self):\n",
    "        word_to_idx = {word: idx + 1 for idx, word in enumerate(self.word_vectors.index_to_key)}\n",
    "        label_to_idx = {\"B\": 0, \"I\": 1, \"O\": 2}\n",
    "        return word_to_idx, label_to_idx\n",
    "\n",
    "    def prepare_data(self):\n",
    "        X, y = [], []\n",
    "        for sample in self.data.values():\n",
    "            text = sample['text'].split()\n",
    "            labels = sample['labels']\n",
    "            text_indices = [self.word_to_idx.get(word, 0) for word in text]\n",
    "            X.append(torch.tensor(text_indices))\n",
    "            y.append(torch.tensor([self.label_to_idx[label] for label in labels]))\n",
    "        X_padded = pad_sequence(X, batch_first=True, padding_value=0)\n",
    "        y_padded = pad_sequence(y, batch_first=True, padding_value=0)\n",
    "        return X_padded, y_padded\n",
    "\n",
    "    def __len__(self):\n",
    "        return len(self.data)\n",
    "\n",
    "    def __getitem__(self, idx):\n",
    "        return self.X[idx], self.y[idx]"
   ]
  },
  {
   "cell_type": "code",
   "execution_count": 4,
   "metadata": {},
   "outputs": [],
   "source": [
    "max_seq_length = 100\n",
    "test_dataset = ReviewDataset('ATE_test.json', glove_vectors, max_seq_length)\n",
    "test_loader = DataLoader(test_dataset, batch_size=32)\n",
    "\n",
    "# Define model parameters\n",
    "embedding_dim = glove_vectors.vectors.shape[1]\n",
    "vocab_size = len(glove_vectors.key_to_index) + 1  # Add 1 for the padding token\n",
    "hidden_dim = 128\n",
    "tagset_size = 3"
   ]
  },
  {
   "cell_type": "code",
   "execution_count": 5,
   "metadata": {},
   "outputs": [
    {
     "data": {
      "text/plain": [
       "RNNTagger(\n",
       "  (embedding): Embedding(400000, 300)\n",
       "  (rnn): RNN(300, 128, batch_first=True)\n",
       "  (linear): Linear(in_features=128, out_features=3, bias=True)\n",
       ")"
      ]
     },
     "execution_count": 5,
     "metadata": {},
     "output_type": "execute_result"
    }
   ],
   "source": [
    "# Load the saved model from the .pt file\n",
    "loaded_model = RNNTagger(embedding_dim, hidden_dim, vocab_size, tagset_size, torch.FloatTensor(glove_vectors.vectors))\n",
    "loaded_model.load_state_dict(torch.load('t2_model1_GloVe.pt'))\n",
    "loaded_model.eval()"
   ]
  },
  {
   "cell_type": "code",
   "execution_count": 6,
   "metadata": {},
   "outputs": [],
   "source": [
    "# Calculate label-wise F1 scores for the test data using the loaded model\n",
    "all_preds = []\n",
    "all_labels = []\n",
    "with torch.no_grad():\n",
    "    for text, labels in test_loader:\n",
    "        outputs = loaded_model(text)\n",
    "        _, predicted = torch.max(outputs, 2)\n",
    "        all_preds.extend(predicted.view(-1).cpu().numpy().tolist())\n",
    "        all_labels.extend(labels.view(-1).cpu().numpy().tolist())"
   ]
  },
  {
   "cell_type": "code",
   "execution_count": 15,
   "metadata": {},
   "outputs": [
    {
     "data": {
      "image/png": "[encoded data removed]",
      "text/plain": [
       "<Figure size 800x600 with 1 Axes>"
      ]
     },
     "metadata": {},
     "output_type": "display_data"
    }
   ],
   "source": [
    "# Define a dictionary to decode label indices\n",
    "idx_to_label = {0: \"B\", 1: \"I\", 2: \"O\"}\n",
    "\n",
    "# Calculate F1 scores for each label\n",
    "label_f1_scores = {}\n",
    "for label_idx, label_name in idx_to_label.items():\n",
    "    label_preds = [1 if pred == label_idx else 0 for pred in all_preds]\n",
    "    label_labels = [1 if lbl == label_idx else 0 for lbl in all_labels]\n",
    "    label_f1_scores[label_name] = f1_score(label_labels, label_preds)\n",
    "\n",
    "# Plotting the bar graph\n",
    "plt.figure(figsize=(8, 6))\n",
    "plt.bar(label_f1_scores.keys(), label_f1_scores.values())\n",
    "plt.xlabel('Labels')\n",
    "plt.ylabel('F1 Score')\n",
    "plt.title('Label-wise F1 Scores for Dataset 2')\n",
    "plt.ylim(0, 1)\n",
    "plt.show()\n"
   ]
  },
  {
   "cell_type": "code",
   "execution_count": 16,
   "metadata": {},
   "outputs": [
    {
     "data": {
      "text/plain": [
       "{'B': 0.9863903244135394, 'I': 0.28662420382165604, 'O': 0.9306675266043212}"
      ]
     },
     "execution_count": 16,
     "metadata": {},
     "output_type": "execute_result"
    }
   ],
   "source": [
    "label_f1_scores"
   ]
  }
 ],
 "metadata": {
  "kernelspec": {
   "display_name": "dl_env",
   "language": "python",
   "name": "python3"
  },
  "language_info": {
   "codemirror_mode": {
    "name": "ipython",
    "version": 3
   },
   "file_extension": ".py",
   "mimetype": "text/x-python",
   "name": "python",
   "nbconvert_exporter": "python",
   "pygments_lexer": "ipython3",
   "version": "3.11.8"
  }
 },
 "nbformat": 4,
 "nbformat_minor": 2
}
