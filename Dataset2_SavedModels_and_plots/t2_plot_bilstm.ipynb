{
 "cells": [
  {
   "cell_type": "markdown",
   "metadata": {},
   "source": [
    "### BILSTM-CRF with Glove embedding"
   ]
  },
  {
   "cell_type": "code",
   "execution_count": 8,
   "metadata": {},
   "outputs": [],
   "source": [
    "import json\n",
    "import torch\n",
    "import random\n",
    "import torch.nn as nn\n",
    "import torch.optim as optim\n",
    "from torch.utils.data import Dataset, DataLoader\n",
    "from sklearn.metrics import f1_score\n",
    "import gensim.downloader as api\n",
    "import matplotlib.pyplot as plt\n",
    "from torch.nn.utils.rnn import pad_sequence"
   ]
  },
  {
   "cell_type": "code",
   "execution_count": 2,
   "metadata": {},
   "outputs": [],
   "source": [
    "# Load pre-trained word embeddings (GloVe)\n",
    "glove_vectors = api.load(\"glove-wiki-gigaword-300\")"
   ]
  },
  {
   "cell_type": "code",
   "execution_count": 3,
   "metadata": {},
   "outputs": [],
   "source": [
    "startTag = \"<START>\"\n",
    "stopTag = \"<STOP>\"\n",
    "\n",
    "def log_sum_exp(vec):\n",
    "    _, idx = torch.max(vec, 1)\n",
    "    max_score = vec[0, idx.item()]\n",
    "    max_score_broadcast = max_score.view(1, -1).expand(1, vec.size()[1])\n",
    "    return max_score + \\\n",
    "        torch.log(torch.sum(torch.exp(vec - max_score_broadcast)))\n",
    "\n",
    "class BiLSTM_CRF(nn.Module):\n",
    "    def __init__(self, vocab_size, tag_to_ix, embedding_dim, hidden_dim, word_embeddings):\n",
    "        super(BiLSTM_CRF, self).__init__()\n",
    "        self.embedding_dim = embedding_dim\n",
    "        self.hidden_dim = hidden_dim\n",
    "        self.vocab_size = vocab_size\n",
    "        self.tag_to_ix = tag_to_ix\n",
    "        self.tagset_size = len(tag_to_ix)\n",
    "        self.word_embeds = nn.Embedding.from_pretrained(word_embeddings, freeze=True)\n",
    "        self.lstm = nn.LSTM(embedding_dim, hidden_dim // 2, num_layers=1, bidirectional=True)\n",
    "        self.hidden2tag = nn.Linear(hidden_dim, self.tagset_size)\n",
    "        self.transitions = nn.Parameter(torch.randn(self.tagset_size, self.tagset_size))\n",
    "        self.transitions.data[tag_to_ix[startTag], :] = -10000\n",
    "        self.transitions.data[:, tag_to_ix[stopTag]] = -10000\n",
    "        self.hidden = (torch.randn(2, 1, self.hidden_dim // 2), torch.randn(2, 1, self.hidden_dim // 2))\n",
    "\n",
    "    def _forward_alg(self, feats):\n",
    "        init_alphas = torch.full((1, self.tagset_size), -10000.)\n",
    "        init_alphas[0][self.tag_to_ix[startTag]] = 0.\n",
    "        forward_var = init_alphas\n",
    "        for feat in feats:\n",
    "            alphas_t = []\n",
    "            for next_tag in range(self.tagset_size):\n",
    "                emit_score = feat[next_tag].view(\n",
    "                    1, -1).expand(1, self.tagset_size)\n",
    "                trans_score = self.transitions[next_tag].view(1, -1)\n",
    "                next_tag_var = forward_var + trans_score + emit_score\n",
    "                alphas_t.append(log_sum_exp(next_tag_var).view(1))\n",
    "            forward_var = torch.cat(alphas_t).view(1, -1)\n",
    "        terminal_var = forward_var + self.transitions[self.tag_to_ix[stopTag]]\n",
    "        alpha = log_sum_exp(terminal_var)\n",
    "        return alpha\n",
    "\n",
    "    def get_features(self, sentence):\n",
    "        self.hidden = (torch.randn(2, 1, self.hidden_dim // 2), torch.randn(2, 1, self.hidden_dim // 2))\n",
    "        embeds = self.word_embeds(sentence).view(len(sentence), 1, -1)\n",
    "        lstm_out, self.hidden = self.lstm(embeds, self.hidden)\n",
    "        lstm_out = lstm_out.view(len(sentence), self.hidden_dim)\n",
    "        lstm_feats = self.hidden2tag(lstm_out)\n",
    "        return lstm_feats\n",
    "\n",
    "    def sentence_score(self, feats, tags):\n",
    "        score = torch.zeros(1)\n",
    "        tags = torch.cat([torch.tensor([self.tag_to_ix[startTag]], dtype=torch.long), tags])\n",
    "        for i, feat in enumerate(feats):\n",
    "            score = score + \\\n",
    "                self.transitions[tags[i + 1], tags[i]] + feat[tags[i + 1]]\n",
    "        score = score + self.transitions[self.tag_to_ix[stopTag], tags[-1]]\n",
    "        return score\n",
    "\n",
    "    def neg_log_likelihood(self, sentence, tags):\n",
    "        feats = self.get_features(sentence)\n",
    "        forward_score = self._forward_alg(feats)\n",
    "        gold_score = self.sentence_score(feats, tags)\n",
    "        return forward_score - gold_score\n",
    "\n",
    "    def forward(self, sentence):  \n",
    "        feats = self.get_features(sentence)\n",
    "        backpointers = []\n",
    "        init_vvars = torch.full((1, self.tagset_size), -10000.)\n",
    "        init_vvars[0][self.tag_to_ix[startTag]] = 0\n",
    "\n",
    "        forward_var = init_vvars\n",
    "        for feat in feats:\n",
    "            bptrs_t = []\n",
    "            viterbivars_t = []\n",
    "            for next_tag in range(self.tagset_size):\n",
    "                next_tag_var = forward_var + self.transitions[next_tag]\n",
    "                _, idx = torch.max(next_tag_var, 1)\n",
    "                best_tag_id = idx.item()\n",
    "                bptrs_t.append(best_tag_id)\n",
    "                viterbivars_t.append(next_tag_var[0][best_tag_id].view(1))\n",
    "            forward_var = (torch.cat(viterbivars_t) + feat).view(1, -1)\n",
    "            backpointers.append(bptrs_t)\n",
    "        \n",
    "        terminal_var = forward_var + self.transitions[self.tag_to_ix[stopTag]]\n",
    "        _, idx = torch.max(terminal_var, 1)\n",
    "        best_tag_id = idx.item()\n",
    "        path_score = terminal_var[0][best_tag_id]\n",
    "        best_path = [best_tag_id]\n",
    "        for bptrs_t in reversed(backpointers):\n",
    "            best_tag_id = bptrs_t[best_tag_id]\n",
    "            best_path.append(best_tag_id)\n",
    "            \n",
    "        start = best_path.pop()\n",
    "        assert start == self.tag_to_ix[startTag]\n",
    "        best_path.reverse()\n",
    "        return path_score, best_path"
   ]
  },
  {
   "cell_type": "code",
   "execution_count": 9,
   "metadata": {},
   "outputs": [],
   "source": [
    "def load_data(file_path):\n",
    "    with open(file_path, 'r') as file:\n",
    "        data = json.load(file)\n",
    "    \n",
    "    training_data = []\n",
    "    for key, value in data.items():\n",
    "        text = value[\"text\"]\n",
    "        labels = value[\"labels\"]\n",
    "        training_data.append((text, \" \".join(labels)))\n",
    "\n",
    "    data = []\n",
    "    for i in training_data:\n",
    "        data.append((i[0].split(), i[1].split()))\n",
    "    return data\n",
    "\n",
    "test_data = load_data('ATE_test.json')\n",
    "\n",
    "def prepare_sequence(seq, to_idx):\n",
    "    vocab_size = len(to_idx)\n",
    "    idxs = []\n",
    "    for w in seq:\n",
    "        if w in to_idx:\n",
    "            idxs.append(to_idx[w])\n",
    "        else:\n",
    "            idxs.append(random.randint(0, vocab_size - 1))\n",
    "    return torch.tensor(idxs, dtype=torch.long)\n",
    "\n",
    "# Define model parameters\n",
    "embedding_dim = glove_vectors.vectors.shape[1]\n",
    "vocab_size = len(glove_vectors.key_to_index) + 1  # Add 1 for the padding token\n",
    "hidden_dim = 8\n",
    "tagset_size = 3"
   ]
  },
  {
   "cell_type": "code",
   "execution_count": 10,
   "metadata": {},
   "outputs": [
    {
     "data": {
      "text/plain": [
       "BiLSTM_CRF(\n",
       "  (word_embeds): Embedding(400000, 300)\n",
       "  (lstm): LSTM(300, 4, bidirectional=True)\n",
       "  (hidden2tag): Linear(in_features=8, out_features=5, bias=True)\n",
       ")"
      ]
     },
     "execution_count": 10,
     "metadata": {},
     "output_type": "execute_result"
    }
   ],
   "source": [
    "word_to_idx_glove = {word: idx + 1 for idx, word in enumerate(glove_vectors.index_to_key)}\n",
    "label_to_idx = {'B':0, 'I':1, 'O':2, '<START>':3, '<STOP>':4} \n",
    "HIDDEN_DIM = 8\n",
    "\n",
    "glove_state_dict = torch.load('t2_model4_GloVe.pt')\n",
    "glove_model = BiLSTM_CRF(len(word_to_idx_glove), label_to_idx, glove_vectors.vector_size, HIDDEN_DIM, torch.FloatTensor(glove_vectors.vectors))\n",
    "glove_model.load_state_dict(glove_state_dict)\n",
    "glove_model.eval()"
   ]
  },
  {
   "cell_type": "code",
   "execution_count": 12,
   "metadata": {},
   "outputs": [],
   "source": [
    "# Calculate label-wise F1 scores\n",
    "label_to_idx = {'B': 0, 'I': 1, 'O': 2}  # Assuming this is the label-to-index mapping\n",
    "all_predictions = []\n",
    "all_labels = []\n",
    "with torch.no_grad():\n",
    "    for sentence, labels in test_data:\n",
    "        sentence_in = prepare_sequence(sentence, word_to_idx_glove)\n",
    "        predictions = glove_model(sentence_in)\n",
    "        predicted_labels = [list(label_to_idx.keys())[list(label_to_idx.values()).index(p)] for p in predictions[1]]\n",
    "        all_predictions.extend(predicted_labels)\n",
    "        all_labels.extend(labels)"
   ]
  },
  {
   "cell_type": "code",
   "execution_count": 13,
   "metadata": {},
   "outputs": [
    {
     "data": {
      "image/png": "[encoded data removed]",
      "text/plain": [
       "<Figure size 800x600 with 1 Axes>"
      ]
     },
     "metadata": {},
     "output_type": "display_data"
    }
   ],
   "source": [
    "label_f1_scores = {}\n",
    "for label in label_to_idx.keys():\n",
    "    label_preds = [1 if pred == label else 0 for pred in all_predictions]\n",
    "    label_labels = [1 if lbl == label else 0 for lbl in all_labels]\n",
    "    label_f1_scores[label] = f1_score(label_labels, label_preds)\n",
    "\n",
    "# Plotting the bar graph\n",
    "plt.figure(figsize=(8, 6))\n",
    "plt.bar(label_f1_scores.keys(), label_f1_scores.values())\n",
    "plt.xlabel('Labels')\n",
    "plt.ylabel('F1 Score')\n",
    "plt.title('Label-wise F1 Scores for Dataset_2')\n",
    "plt.ylim(0, 1)\n",
    "plt.show()"
   ]
  },
  {
   "cell_type": "code",
   "execution_count": 14,
   "metadata": {},
   "outputs": [
    {
     "data": {
      "text/plain": [
       "{'B': 0.5593008739076155, 'I': 0.47665847665847666, 'O': 0.9472301291876505}"
      ]
     },
     "execution_count": 14,
     "metadata": {},
     "output_type": "execute_result"
    }
   ],
   "source": [
    "label_f1_scores"
   ]
  },
  {
   "cell_type": "code",
   "execution_count": null,
   "metadata": {},
   "outputs": [],
   "source": []
  }
 ],
 "metadata": {
  "kernelspec": {
   "display_name": "dl_env",
   "language": "python",
   "name": "python3"
  },
  "language_info": {
   "codemirror_mode": {
    "name": "ipython",
    "version": 3
   },
   "file_extension": ".py",
   "mimetype": "text/x-python",
   "name": "python",
   "nbconvert_exporter": "python",
   "pygments_lexer": "ipython3",
   "version": "3.11.8"
  }
 },
 "nbformat": 4,
 "nbformat_minor": 2
}
